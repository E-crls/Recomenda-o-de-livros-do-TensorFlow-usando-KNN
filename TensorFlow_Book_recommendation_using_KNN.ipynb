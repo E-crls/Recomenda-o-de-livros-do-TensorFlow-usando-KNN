{
  "cells": [
    {
      "cell_type": "markdown",
      "metadata": {
        "id": "view-in-github",
        "colab_type": "text"
      },
      "source": [
        "<a href=\"https://colab.research.google.com/github/E-crls/Recomenda-o-de-livros-do-TensorFlow-usando-KNN/blob/main/TensorFlow_Book_recommendation_using_KNN.ipynb\" target=\"_parent\"><img src=\"https://colab.research.google.com/assets/colab-badge.svg\" alt=\"Open In Colab\"/></a>"
      ]
    },
    {
      "cell_type": "code",
      "execution_count": null,
      "metadata": {
        "id": "Y1onB6kUvo4Z"
      },
      "outputs": [],
      "source": [
        "# import libraries (you may add additional imports but you may not have to)\n",
        "import numpy as np\n",
        "import pandas as pd\n",
        "import math\n",
        "from scipy.sparse import csr_matrix\n",
        "from sklearn.neighbors import NearestNeighbors\n",
        "import matplotlib.pyplot as plt\n",
        "import matplotlib as mpl\n",
        "from bokeh.plotting import figure, output_file, show\n",
        "from bokeh.palettes import magma\n",
        "import pandas as pd"
      ]
    },
    {
      "cell_type": "code",
      "execution_count": null,
      "metadata": {
        "id": "iAQGqqO_vo4d",
        "colab": {
          "base_uri": "https://localhost:8080/"
        },
        "outputId": "0b6f007a-cde9-419c-926c-2a0cefb266e7"
      },
      "outputs": [
        {
          "output_type": "stream",
          "name": "stdout",
          "text": [
            "--2022-12-16 01:46:03--  https://cdn.freecodecamp.org/project-data/books/book-crossings.zip\n",
            "Resolving cdn.freecodecamp.org (cdn.freecodecamp.org)... 104.26.3.33, 172.67.70.149, 104.26.2.33, ...\n",
            "Connecting to cdn.freecodecamp.org (cdn.freecodecamp.org)|104.26.3.33|:443... connected.\n",
            "HTTP request sent, awaiting response... 200 OK\n",
            "Length: 26085508 (25M) [application/zip]\n",
            "Saving to: ‘book-crossings.zip’\n",
            "\n",
            "book-crossings.zip  100%[===================>]  24.88M  6.67MB/s    in 4.4s    \n",
            "\n",
            "2022-12-16 01:46:08 (5.66 MB/s) - ‘book-crossings.zip’ saved [26085508/26085508]\n",
            "\n",
            "Archive:  book-crossings.zip\n",
            "  inflating: BX-Book-Ratings.csv     \n",
            "  inflating: BX-Books.csv            \n",
            "  inflating: BX-Users.csv            \n"
          ]
        }
      ],
      "source": [
        "# get data files\n",
        "!wget https://cdn.freecodecamp.org/project-data/books/book-crossings.zip\n",
        "\n",
        "!unzip book-crossings.zip\n",
        "\n",
        "books_filename = 'BX-Books.csv'\n",
        "ratings_filename = 'BX-Book-Ratings.csv'"
      ]
    },
    {
      "cell_type": "code",
      "execution_count": null,
      "metadata": {
        "id": "NClILWOiEd6Q"
      },
      "outputs": [],
      "source": [
        "# import csv data into dataframes\n",
        "df_books = pd.read_csv(\n",
        "    books_filename,\n",
        "    encoding = \"ISO-8859-1\",\n",
        "    sep=\";\",\n",
        "    header=0,\n",
        "    names=['isbn', 'title', 'author'],\n",
        "    usecols=['isbn', 'title', 'author'],\n",
        "    dtype={'isbn': 'str', 'title': 'str', 'author': 'str'})\n",
        "\n",
        "df_ratings = pd.read_csv(\n",
        "    ratings_filename,\n",
        "    encoding = \"ISO-8859-1\",\n",
        "    sep=\";\",\n",
        "    header=0,\n",
        "    names=['user', 'isbn', 'rating'],\n",
        "    usecols=['user', 'isbn', 'rating'],\n",
        "    dtype={'user': 'int32', 'isbn': 'str', 'rating': 'float32'})\n"
      ]
    },
    {
      "cell_type": "code",
      "source": [
        "# 1- Find all the books ISBN with same title and author\n",
        "foo = df_books.groupby(['title', 'author']).agg(copies=('isbn', list), count=('isbn', 'count'))\n",
        "\n",
        "# 2- Update all the ratings to point to the 1st ISBN found for that book\n",
        "isbn_list = foo.query('count > 3')['copies'].tolist();\n",
        "for ids in isbn_list:\n",
        "  anchor, to_replace_list = ids[0], ids[1:]\n",
        "  df_ratings['isbn'].replace(to_replace=to_replace_list, value=anchor, inplace=True)\n"
      ],
      "metadata": {
        "id": "ztdsQd-m3Ey-"
      },
      "execution_count": null,
      "outputs": []
    },
    {
      "cell_type": "code",
      "source": [
        "## Clean up the data\n",
        "\n",
        "\n",
        "# Remove duplicate rows in df_books and df_ratings\n",
        "df_books = df_books.drop_duplicates(subset=['title', 'author'])\n",
        "df_ratings = df_ratings.drop_duplicates(subset=['isbn', 'user'])\n",
        "\n",
        "# Remove books with less than 100 ratings\n",
        "books_count_before = len(df_books)\n",
        "books_with_ratings = df_books.merge(df_ratings, on='isbn')\n",
        "grouped_by_isbn = books_with_ratings.groupby(['isbn', 'title']).rating.agg(['count', 'mean']).reset_index()\n",
        "books_min_count = 100\n",
        "acceptable_books = grouped_by_isbn.query('count >= {}'.format(books_min_count))['isbn'].tolist()\n",
        "grouped_by_isbn = grouped_by_isbn[grouped_by_isbn['isbn'].isin(acceptable_books)]\n",
        "df_books = df_books[df_books['isbn'].isin(acceptable_books)]\n",
        "books_count_after = len(df_books)\n",
        "b_percent_change = round((books_count_before-books_count_after)/books_count_before*100, 2)\n",
        "print('Removed {:,} rows ({}%) of books with less than {} reviews'.format(books_count_before - books_count_after, b_percent_change, books_min_count))\n",
        "\n",
        "# Remove users with less than 200 ratings\n",
        "users_count_before = len(df_ratings)\n",
        "ratings_min_count = 200;\n",
        "df_ratings = df_ratings[df_ratings['isbn'].isin(acceptable_books)]\n",
        "acceptable_users = df_ratings.groupby(['user']).rating.agg(['count']).reset_index().query('count >= {}'.format(ratings_min_count))['user'].tolist()\n",
        "df_ratings = df_ratings[df_ratings['user'].isin(acceptable_users)]\n",
        "users_count_after = len(df_ratings)\n",
        "u_percent_change = round((users_count_before-users_count_after)/users_count_before*100,2)\n",
        "print('Removed {:,} rows ({}%) of user ratings with less than {} reviews per account or invalid books'.format(users_count_before - users_count_after, u_percent_change, ratings_min_count))\n",
        "\n"
      ],
      "metadata": {
        "colab": {
          "base_uri": "https://localhost:8080/"
        },
        "id": "C04FQewV4B1W",
        "outputId": "26244ea7-87b4-4466-937d-1244140197f7"
      },
      "execution_count": null,
      "outputs": [
        {
          "output_type": "stream",
          "name": "stdout",
          "text": [
            "Removed 250,496 rows (99.72%) of books with less than 100 reviews\n",
            "Removed 1,142,576 rows (99.49%) of user ratings with less than 200 reviews per account or invalid books\n"
          ]
        }
      ]
    },
    {
      "cell_type": "code",
      "execution_count": null,
      "metadata": {
        "id": "xAcXjkCFCh0A"
      },
      "outputs": [],
      "source": [
        "\n",
        "df_books = pd.read_csv(\n",
        "    books_filename,\n",
        "    encoding = \"ISO-8859-1\",\n",
        "    sep=\";\",\n",
        "    header=0,\n",
        "    names=['isbn', 'title', 'author'],\n",
        "    usecols=['isbn', 'title', 'author'],\n",
        "    dtype={'isbn': 'str', 'title': 'str', 'author': 'str'})\n",
        "\n",
        "df_ratings = pd.read_csv(\n",
        "    ratings_filename,\n",
        "    encoding = \"ISO-8859-1\",\n",
        "    sep=\";\",\n",
        "    header=0,\n",
        "    names=['user', 'isbn', 'rating'],\n",
        "    usecols=['user', 'isbn', 'rating'],\n",
        "    dtype={'user': 'int32', 'isbn': 'str', 'rating': 'float32'})\n",
        "\n",
        "df = df_ratings\n",
        "counts1 = df['user'].value_counts()\n",
        "counts2 = df['isbn'].value_counts()\n",
        "df = df[df['user'].isin(counts1[counts1 >= 200].index)]\n",
        "df = df[df['isbn'].isin(counts2[counts2 >= 100].index)]\n",
        "\n",
        "merged_df = pd.merge(right=df, left = df_books, on=\"isbn\")\n",
        "merged_df = merged_df.drop_duplicates(subset=[\"title\", \"user\"])\n",
        "\n",
        "books_features_pivot = merged_df.pivot(\n",
        "  index='title',\n",
        "  columns='user',\n",
        "  values='rating'\n",
        ").fillna(0)\n",
        "mat_books_features = csr_matrix(books_features_pivot.values)\n"
      ]
    },
    {
      "cell_type": "code",
      "execution_count": null,
      "metadata": {
        "id": "f5ZUd-L1SQz7"
      },
      "outputs": [],
      "source": [
        "def get_recommends(book = \"\", n = 5):\n",
        "\n",
        "  pivot = books_features_pivot\n",
        "  titles = list(pivot.index.values)\n",
        "  data = pivot.values\n",
        "\n",
        "  def title_2_index(title):\n",
        "    ind = titles.index(title)\n",
        "    return data[ind,:]\n",
        "\n",
        "  def index_2_title(ind):\n",
        "    return titles[ind]\n",
        "\n",
        "  model = NearestNeighbors(metric=\"cosine\", algorithm=\"brute\", p=2)\n",
        "  model.fit(data)\n",
        "\n",
        "  idx = title_2_index(book)\n",
        "  distances, indices = model.kneighbors(\n",
        "    np.reshape(idx, [1, -1]),\n",
        "    n_neighbors=n+1\n",
        "  )\n",
        "\n",
        "  raw_recommends = sorted(\n",
        "    list(\n",
        "      zip(\n",
        "        indices.squeeze().tolist(),\n",
        "        distances.squeeze().tolist()\n",
        "      )\n",
        "    ),\n",
        "    key=lambda x: x[1]\n",
        "  )[1:]\n",
        "\n",
        "  recommended_books = []\n",
        "  print('Recommendations for {}:'.format(book))\n",
        "  for i, (idx, dist) in enumerate(raw_recommends):\n",
        "      dist = dist\n",
        "      recommended_books.append([index_2_title(idx), dist])\n",
        "      print('{0}: {1}, with distance of {2:,.2f}'.format(i+1, index_2_title(idx), dist))\n",
        "  print('-----------------')\n",
        "  return [book, recommended_books]\n"
      ]
    },
    {
      "cell_type": "code",
      "execution_count": null,
      "metadata": {
        "id": "jd2SLCh8oxMh",
        "colab": {
          "base_uri": "https://localhost:8080/"
        },
        "outputId": "0a8b2848-8ddd-4aff-9c30-b32a6ca41262"
      },
      "outputs": [
        {
          "output_type": "stream",
          "name": "stdout",
          "text": [
            "Recommendations for Where the Heart Is (Oprah's Book Club (Paperback)):\n",
            "1: The Lovely Bones: A Novel, with distance of 0.72\n",
            "2: I Know This Much Is True, with distance of 0.77\n",
            "3: The Surgeon, with distance of 0.77\n",
            "4: The Weight of Water, with distance of 0.77\n",
            "5: I'll Be Seeing You, with distance of 0.80\n",
            "6: The Dive From Clausen's Pier (Alex Awards), with distance of 0.80\n",
            "7: Tis: A Memoir, with distance of 0.81\n",
            "8: Icy Sparks, with distance of 0.81\n",
            "9: Unspeakable, with distance of 0.81\n",
            "10: What Looks Like Crazy On An Ordinary Day, with distance of 0.82\n",
            "-----------------\n",
            "You passed the challenge! 🎉🎉🎉🎉🎉\n"
          ]
        }
      ],
      "source": [
        "def test_book_recommendation():\n",
        "  test_pass = True\n",
        "  recommends = get_recommends(\"Where the Heart Is (Oprah's Book Club (Paperback))\", 10)\n",
        "  if recommends[0] != \"Where the Heart Is (Oprah's Book Club (Paperback))\":\n",
        "    test_pass = False\n",
        "  recommended_books = [\"I'll Be Seeing You\", 'The Weight of Water', 'The Surgeon', 'I Know This Much Is True', 'The Lovely Bones: A Novel']\n",
        "  recommended_books_dist = [0.8, 0.77, 0.77, 0.77, 0.72]\n",
        "  recommended_books.reverse()\n",
        "  recommended_books_dist.reverse()\n",
        "\n",
        "  for i in range(2): \n",
        "    if recommends[1][i][0] not in recommended_books:\n",
        "      test_pass = False\n",
        "    if abs(recommends[1][i][1] - recommended_books_dist[i]) >= 0.05:\n",
        "      test_pass = False\n",
        "  if test_pass:\n",
        "    print(\"You passed the challenge! 🎉🎉🎉🎉🎉\")\n",
        "  else:\n",
        "    print(\"You haven't passed yet. Keep trying!\")\n",
        "\n",
        "test_book_recommendation()"
      ]
    }
  ],
  "metadata": {
    "colab": {
      "provenance": [],
      "include_colab_link": true
    },
    "kernelspec": {
      "display_name": "Python 3",
      "language": "python",
      "name": "python3"
    },
    "language_info": {
      "codemirror_mode": {
        "name": "ipython",
        "version": 3
      },
      "file_extension": ".py",
      "mimetype": "text/x-python",
      "name": "python",
      "nbconvert_exporter": "python",
      "pygments_lexer": "ipython3",
      "version": "3.6.5"
    }
  },
  "nbformat": 4,
  "nbformat_minor": 0
}